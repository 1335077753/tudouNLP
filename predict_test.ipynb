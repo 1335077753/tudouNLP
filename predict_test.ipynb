{
 "cells": [
  {
   "cell_type": "code",
   "execution_count": 1,
   "metadata": {
    "collapsed": true
   },
   "outputs": [],
   "source": [
    "import os\n"
   ]
  },
  {
   "cell_type": "code",
   "execution_count": 2,
   "metadata": {},
   "outputs": [
    {
     "data": {
      "text/plain": [
       "'/Users/tudou/Downloads/project/test'"
      ]
     },
     "execution_count": 2,
     "metadata": {},
     "output_type": "execute_result"
    }
   ],
   "source": [
    "os.getcwd()"
   ]
  },
  {
   "cell_type": "code",
   "execution_count": 3,
   "metadata": {},
   "outputs": [],
   "source": [
    "import tudouNLP.models.predict as p\n",
    "import tudouNLP.models.train as t\n",
    "import tudouNLP.tools.utils as u\n"
   ]
  },
  {
   "cell_type": "markdown",
   "metadata": {},
   "source": [
    "# "
   ]
  },
  {
   "cell_type": "code",
   "execution_count": 4,
   "metadata": {},
   "outputs": [
    {
     "name": "stdout",
     "output_type": "stream",
     "text": [
      "[('Negative:', 0.9826827), ('Positive:', 0.99453545), ('Positive:', 0.9969607)]\n"
     ]
    }
   ],
   "source": [
    "predictor=p.sentence('./model')\n",
    "result=predictor.sentiment([\"你真他妈是个人才！\",\"真他妈好用啊！\",\"你真是个人才\"])\n",
    "print(result)"
   ]
  },
  {
   "cell_type": "markdown",
   "metadata": {},
   "source": []
  },
  {
   "cell_type": "code",
   "execution_count": 5,
   "metadata": {},
   "outputs": [
    {
     "name": "stdout",
     "output_type": "stream",
     "text": [
      "[['在', '山东青岛', '，', '位于', '长江', '西路', '的', '中国石油大学教务处', '，', '王新哲', '、', '操', '应', '长', '、', '查明', '正在', '参观', '邃', '智', '科技有限公司', '！'], ['德玛西亚', '带领', '着', '他', '的', '子民', '在', '瓦罗兰大陆', '，', '与', '瑞', '兹', '展开', '了', '殊死搏斗']]\n"
     ]
    }
   ],
   "source": [
    "texts=[\"在山东青岛，位于长江西路的中国石油大学教务处，王新哲、操应长、查明正在参观邃智科技有限公司！\",\"德玛西亚带领着他的子民在瓦罗兰大陆，与瑞兹展开了殊死搏斗\"]\n",
    "predictor=p.tagger('./model')\n",
    "result=predictor.cut(texts)\n",
    "print(result)"
   ]
  },
  {
   "cell_type": "markdown",
   "metadata": {},
   "source": []
  },
  {
   "cell_type": "code",
   "execution_count": 6,
   "metadata": {
    "collapsed": false
   },
   "outputs": [
    {
     "data": {
      "text/plain": [
       "[[('在', 'P'),\n  ('山东青岛', 'NS'),\n  ('，', 'W'),\n  ('位于', 'V'),\n  ('长江', 'NS'),\n  ('西路', 'N'),\n  ('的', 'UDE1'),\n  ('中国石油大学教务处', 'NT'),\n  ('，', 'W'),\n  ('王新哲', 'NR'),\n  ('、', 'W'),\n  ('操', 'V'),\n  ('应', 'V'),\n  ('长', 'A'),\n  ('、', 'W'),\n  ('查明', 'V'),\n  ('正在', 'D'),\n  ('参观', 'V'),\n  ('邃', 'NT'),\n  ('智', 'NG'),\n  ('科技有限公司', 'NIS'),\n  ('！', 'W')],\n [('德玛西亚', 'NRF'),\n  ('带领', 'V'),\n  ('着', 'UZHE'),\n  ('他', 'RR'),\n  ('的', 'UDE1'),\n  ('子民', 'N'),\n  ('在', 'P'),\n  ('瓦罗兰大陆', 'NZ'),\n  ('，', 'W'),\n  ('与', 'CC'),\n  ('瑞', 'NRF'),\n  ('兹', 'RG'),\n  ('展开', 'V'),\n  ('了', 'ULE'),\n  ('殊死搏斗', 'NZ')]]"
      ]
     },
     "execution_count": 6,
     "metadata": {},
     "output_type": "execute_result"
    }
   ],
   "source": [
    "predictor=p.tagger('./model')\n",
    "predictor.cut(texts,'posseg')"
   ]
  },
  {
   "cell_type": "markdown",
   "metadata": {},
   "source": []
  },
  {
   "cell_type": "code",
   "execution_count": 7,
   "metadata": {},
   "outputs": [
    {
     "data": {
      "text/plain": [
       "[(['王新哲', '操应长', '查明'], ['山东', '青岛', '长江西路'], ['中国石油大学教务处', '邃智科技有限公司']),\n (['德玛西亚', '瑞兹'], ['瓦罗兰大陆'], [])]"
      ]
     },
     "execution_count": 7,
     "metadata": {},
     "output_type": "execute_result"
    }
   ],
   "source": [
    "predictor=p.tagger('./model')\n",
    "predictor.ner(texts)"
   ]
  },
  {
   "cell_type": "code",
   "execution_count": null,
   "metadata": {},
   "outputs": [],
   "source": []
  }
 ],
 "metadata": {
  "kernelspec": {
   "display_name": "Python 2",
   "language": "python",
   "name": "python2"
  },
  "language_info": {
   "codemirror_mode": {
    "name": "ipython",
    "version": 2
   },
   "file_extension": ".py",
   "mimetype": "text/x-python",
   "name": "python",
   "nbconvert_exporter": "python",
   "pygments_lexer": "ipython2",
   "version": "2.7.6"
  }
 },
 "nbformat": 4,
 "nbformat_minor": 0
}
